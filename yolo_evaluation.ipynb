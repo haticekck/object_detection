{
 "cells": [
  {
   "cell_type": "code",
   "execution_count": 6,
   "id": "1feb9a15",
   "metadata": {},
   "outputs": [
    {
     "name": "stdout",
     "output_type": "stream",
     "text": [
      "Precision               : 0.682\n",
      "Recall                  : 0.502\n",
      "mIoU >= 0.5             : 0.565\n",
      "mIoU >= 0.5 and <=0.95  : 0.405\n"
     ]
    }
   ],
   "source": [
    "import pandas as pd\n",
    "\n",
    "df = pd.read_csv('runs/detect/train/results.csv')\n",
    "\n",
    "last = df.iloc[-1]\n",
    "\n",
    "precision = last['metrics/precision(B)']\n",
    "recall = last['metrics/recall(B)']\n",
    "map_50 = last['metrics/mAP50(B)']\n",
    "map_50_95 = last['metrics/mAP50-95(B)']\n",
    "\n",
    "# Yazdır\n",
    "print(f\"Precision               : {precision:.3f}\")\n",
    "print(f\"Recall                  : {recall:.3f}\")\n",
    "print(f\"mIoU >= 0.5             : {map_50:.3f}\")\n",
    "print(f\"mIoU >= 0.5 and <=0.95  : {map_50_95:.3f}\")"
   ]
  }
 ],
 "metadata": {
  "kernelspec": {
   "display_name": "Python 3",
   "language": "python",
   "name": "python3"
  },
  "language_info": {
   "codemirror_mode": {
    "name": "ipython",
    "version": 3
   },
   "file_extension": ".py",
   "mimetype": "text/x-python",
   "name": "python",
   "nbconvert_exporter": "python",
   "pygments_lexer": "ipython3",
   "version": "3.9.6"
  }
 },
 "nbformat": 4,
 "nbformat_minor": 5
}
